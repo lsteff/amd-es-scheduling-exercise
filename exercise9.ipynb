{
 "cells": [
  {
   "cell_type": "markdown",
   "metadata": {},
   "source": [
    "# 1. Ablaufplanung von Prozessen in Betriebssystemen\n",
    "Implementieren Sie die Algorithmen aus Aufgabe 1 in Python. Ihnen steht folgendes Interface zur Verfügung:\n",
    "Gegeben ist eine Basisklasse namens `Scheduler`. Diese kann genutzt werden, um eine Liste von Task-Objekten dynamisch zu planen.\n",
    "Dafür muss der Methode `Scheduler.schedule` eine Liste solcher Task-Objekte übergeben werden.\n",
    "\n",
    "Das eigentliche Verhalten von `Scheduler` kann mithilfe der Methode `Scheduler.update` implementiert werden.\n",
    "Indem Sie von `Scheduler` erben, können Sie diese Methode überschreiben und um ihren eigenen Code ergänzen.\n",
    "Auf diese Weise haben sie Zugriff auf interne Variablen von `Scheduler`.\n",
    "Für Sie interessant sind vor allem:\n",
    "+ `self.current_task`: der aktuelle Task (wurde im vorherigen Zeitpunkt bearbeitet, `None` im Idle-Fall). Muss immer in `self.tasks_active` enthalten sein.\n",
    "+ `self.tasks_active`: Liste mit allen Tasks, die ausführbereit sind. Diese Liste wird automatisch mit der verbleibenden Zeit aller Tasks aktualisiert. Das `duration` Feld eines Tasks entspricht hier also der verbleibenden Zeit.\n",
    "Wenn in einem Zeitpunkt die Ankunftszeit von Tasks erreicht wurde, dann werden diese \"neuen\" Tasks im Parameter `new_tasks` übergeben.\n",
    "\n",
    "Um die Funktionsweise zu verdeutlichen, ist im Folgenden ein Algorithmus implementiert, der einen zufälligen Task zur Ausführung auswählt, sobald der vorherige abgeschlossen wurde."
   ]
  },
  {
   "cell_type": "code",
   "execution_count": null,
   "metadata": {},
   "outputs": [],
   "source": [
    "from scheduler.scheduler import *\n",
    "import random\n",
    "\n",
    "\n",
    "class Random(Scheduler):\n",
    "    def update(self, new_tasks):\n",
    "        if len(new_tasks) != 0:\n",
    "            self.tasks_active += new_tasks\n",
    "\n",
    "        if len(self.tasks_active) > 0 and self.current_task == None:\n",
    "            # pick a number from 0 to #of available tasks\n",
    "            task_id = random.randrange(len(self.tasks_active))\n",
    "            self.current_task = self.tasks_active[task_id]\n",
    "\n",
    "\n",
    "# Plane ein paar Beispielstasks\n",
    "example_tasks = [\n",
    "    Task(id=1, duration=5, release=0),\n",
    "    Task(id=2, duration=10, release=0),\n",
    "    Task(id=3, duration=10, release=0),\n",
    "]\n",
    "\n",
    "scheduler = Random()\n",
    "random_schedule = scheduler.schedule(example_tasks)\n",
    "random_schedule.gantt_chart()"
   ]
  },
  {
   "cell_type": "markdown",
   "metadata": {},
   "source": [
    "## 1.1\n",
    "Nutzen Sie nun das vorherige Beispiel, um die anderen Algorithmen zu implementieren.\n",
    "In der folgenden Codezelle ist die Liste an Tasks aus Aufgabe 1 definiert, sodass sie ihre Ergebnisse vergleichen können.\n",
    "\n",
    "Round Robin lassen wir hier aus."
   ]
  },
  {
   "cell_type": "code",
   "execution_count": 28,
   "metadata": {},
   "outputs": [],
   "source": [
    "task_list = [\n",
    "    Task(id=1, duration=20, release=0, priority=2),\n",
    "    Task(id=2, duration=5, release=0, priority=1),\n",
    "    Task(id=3, duration=10, release=5, priority=4),\n",
    "    Task(id=4, duration=5, release=20, priority=3),\n",
    "    Task(id=5, duration=20, release=50, priority=6),\n",
    "    Task(id=6, duration=5, release=50, priority=7),\n",
    "]"
   ]
  },
  {
   "cell_type": "markdown",
   "metadata": {},
   "source": [
    "### First Come First Served"
   ]
  },
  {
   "cell_type": "code",
   "execution_count": null,
   "metadata": {},
   "outputs": [],
   "source": [
    "class FCFS(Scheduler):\n",
    "    def update(self, new_tasks):\n",
    "        # insert your solution and remove \"pass\" line\n",
    "        pass\n",
    "\n",
    "\n",
    "scheduler = FCFS()\n",
    "fcfs_schedule = scheduler.schedule(task_list)\n",
    "fcfs_schedule.gantt_chart()"
   ]
  },
  {
   "cell_type": "markdown",
   "metadata": {},
   "source": [
    "### Shortest Job First"
   ]
  },
  {
   "cell_type": "code",
   "execution_count": null,
   "metadata": {},
   "outputs": [],
   "source": [
    "class SJF(Scheduler):\n",
    "    def update(self, new_tasks):\n",
    "        # insert your solution and remove \"pass\" line\n",
    "        pass\n",
    "\n",
    "\n",
    "\n",
    "scheduler = SJF()\n",
    "sjf_schedule = scheduler.schedule(task_list)\n",
    "sjf_schedule.gantt_chart()"
   ]
  },
  {
   "cell_type": "markdown",
   "metadata": {},
   "source": [
    "### Shortest Remaining Time Next"
   ]
  },
  {
   "cell_type": "code",
   "execution_count": null,
   "metadata": {},
   "outputs": [],
   "source": [
    "class SRTN(Scheduler):\n",
    "    def update(self, new_tasks):\n",
    "        # insert your solution and remove \"pass\" line\n",
    "        pass\n",
    "\n",
    "scheduler = SRTN()\n",
    "srtn_schedule = scheduler.schedule(task_list)\n",
    "srtn_schedule.gantt_chart()\n"
   ]
  },
  {
   "cell_type": "markdown",
   "metadata": {},
   "source": [
    "### Prioritätsscheduling"
   ]
  },
  {
   "cell_type": "code",
   "execution_count": null,
   "metadata": {},
   "outputs": [],
   "source": [
    "class Priority(Scheduler):\n",
    "    def update(self, new_tasks):\n",
    "        # insert your solution and remove \"pass\" line\n",
    "        pass\n",
    "\n",
    "scheduler = Priority()\n",
    "prio_schedule = scheduler.schedule(task_list)\n",
    "prio_schedule.gantt_chart()"
   ]
  },
  {
   "cell_type": "markdown",
   "metadata": {},
   "source": [
    "## Zusatz: 1.2\n",
    "\n",
    "Berechnen sie mithilfe des `schedule` Objekts die Latenz und die CPU-Auslastung der berechneten Ablaufpläne."
   ]
  },
  {
   "cell_type": "code",
   "execution_count": 33,
   "metadata": {},
   "outputs": [],
   "source": [
    "# insert your solution\n"
   ]
  },
  {
   "cell_type": "markdown",
   "metadata": {},
   "source": [
    "# Aufgabe 2: EDF (nichtperiodische Ablaufplanung)\n",
    "\n",
    "Implementieren Sie den EDF-Algorithmus nach dem aus Aufgabe 1 bekannten Schema."
   ]
  },
  {
   "cell_type": "code",
   "execution_count": null,
   "metadata": {},
   "outputs": [],
   "source": [
    "edf_task_list = [\n",
    "    Task(id=1, duration=3, release=0, deadline=16),\n",
    "    Task(id=2, duration=1, release=2, deadline=7),\n",
    "    Task(id=3, duration=6, release=0, deadline=8),\n",
    "    Task(id=4, duration=2, release=8, deadline=11),\n",
    "    Task(id=5, duration=3, release=13, deadline=18),\n",
    "]\n",
    "\n",
    "\n",
    "class EDF(Scheduler):\n",
    "    def update(self, new_tasks):\n",
    "        pass\n",
    "\n",
    "\n",
    "scheduler = EDF()\n",
    "schedule = scheduler.schedule(edf_task_list)\n",
    "schedule.gantt_chart()"
   ]
  }
 ],
 "metadata": {
  "kernelspec": {
   "display_name": ".venv",
   "language": "python",
   "name": "python3"
  },
  "language_info": {
   "codemirror_mode": {
    "name": "ipython",
    "version": 3
   },
   "file_extension": ".py",
   "mimetype": "text/x-python",
   "name": "python",
   "nbconvert_exporter": "python",
   "pygments_lexer": "ipython3",
   "version": "3.13.1"
  }
 },
 "nbformat": 4,
 "nbformat_minor": 2
}
